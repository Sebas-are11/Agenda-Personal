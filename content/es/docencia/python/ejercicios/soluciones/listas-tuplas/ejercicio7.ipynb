{
  "cells": [
    {
      "cell_type": "markdown",
      "metadata": {
        "id": "IIjH-VOREh3Y"
      },
      "source": [
        "## Ejercicio\n",
        "\n",
        "Escribir un programa que almacene el abecedario en una lista, elimine de la lista las letras que ocupen posiciones múltiplos de 3, y muestre por pantalla la lista resultante."
      ]
    },
    {
      "cell_type": "markdown",
      "metadata": {
        "id": "cuF7_FDeEh3a"
      },
      "source": [
        "## Solución 1"
      ]
    },
    {
      "cell_type": "code",
      "source": [
        "using System;\n",
        "using System.Collections.Generic;\n",
        "\n",
        "public class Program\n",
        "{\n",
        "    public static void Main()\n",
        "    {\n",
        "        // Almacenar el abecedario en una lista\n",
        "        List<char> abecedario = new List<char>()\n",
        "        {\n",
        "            'A', 'B', 'C', 'D', 'E', 'F', 'G', 'H', 'I', 'J', 'K', 'L', 'M', 'N', 'O', 'P', 'Q', 'R', 'S', 'T', 'U', 'V', 'W', 'X', 'Y', 'Z'\n",
        "        };\n",
        "\n",
        "        // Eliminar las letras en posiciones múltiplos de 3 (considerando índice 0)\n",
        "        for (int i = abecedario.Count - 1; i >= 0; i--)\n",
        "        {\n",
        "            if ((i + 1) % 3 == 0)\n",
        "            {\n",
        "                abecedario.RemoveAt(i);\n",
        "            }\n",
        "        }\n",
        "\n",
        "        // Mostrar la lista resultante\n",
        "        Console.WriteLine(\"Lista resultante después de eliminar las letras en posiciones múltiplos de 3:\");\n",
        "        foreach (var letra in abecedario)\n",
        "        {\n",
        "            Console.Write(letra + \" \");\n",
        "        }\n",
        "    }\n",
        "}\n"
      ],
      "metadata": {
        "id": "hFDuYJ-JE9NR",
        "outputId": "35bbad3e-6c38-468b-cb63-2046b62002ec",
        "colab": {
          "base_uri": "https://localhost:8080/",
          "height": 106
        }
      },
      "execution_count": 3,
      "outputs": [
        {
          "output_type": "error",
          "ename": "SyntaxError",
          "evalue": "invalid syntax (<ipython-input-3-b97ae6ffc985>, line 1)",
          "traceback": [
            "\u001b[0;36m  File \u001b[0;32m\"<ipython-input-3-b97ae6ffc985>\"\u001b[0;36m, line \u001b[0;32m1\u001b[0m\n\u001b[0;31m    using System;\u001b[0m\n\u001b[0m          ^\u001b[0m\n\u001b[0;31mSyntaxError\u001b[0m\u001b[0;31m:\u001b[0m invalid syntax\n"
          ]
        }
      ]
    },
    {
      "cell_type": "code",
      "execution_count": null,
      "metadata": {
        "id": "v5eLQFyiEh3b",
        "outputId": "3c05cc2b-4876-46a9-feb5-8210759ab558"
      },
      "outputs": [
        {
          "name": "stdout",
          "output_type": "stream",
          "text": [
            "['a', 'b', 'd', 'e', 'g', 'h', 'j', 'k', 'm', 'n', 'o', 'p', 'r', 's', 'u', 'v', 'x', 'y']\n"
          ]
        }
      ],
      "source": [
        "alphabet = ['a', 'b', 'c', 'd', 'e', 'f', 'g', 'h', 'i', 'j', 'k', 'l', 'm', 'n', 'ñ', 'o', 'p', 'q', 'r', 's', 't', 'u', 'v', 'w', 'x', 'y', 'z']\n",
        "for i in range(len(alphabet), 1, -1):\n",
        "    if i % 3 == 0:\n",
        "        alphabet.pop(i-1)\n",
        "print(alphabet)"
      ]
    },
    {
      "cell_type": "markdown",
      "metadata": {
        "id": "p3OIimZ5Eh3c"
      },
      "source": [
        "## Solución 2"
      ]
    },
    {
      "cell_type": "code",
      "execution_count": null,
      "metadata": {
        "id": "bLpZeON9Eh3d",
        "outputId": "e5cb28f8-5aff-4fdf-9ca8-f4b15d48d0e0"
      },
      "outputs": [
        {
          "output_type": "stream",
          "name": "stdout",
          "text": [
            "['a', 'b', 'd', 'e', 'g', 'h', 'j', 'k', 'm', 'n', 'o', 'p', 'r', 's', 'u', 'v', 'x', 'y']\n"
          ]
        }
      ],
      "source": [
        "alphabet = ['a', 'b', 'c', 'd', 'e', 'f', 'g', 'h', 'i', 'j', 'k', 'l', 'm', 'n', 'ñ', 'o', 'p', 'q', 'r', 's', 't', 'u', 'v', 'w', 'x', 'y', 'z']\n",
        "for i in range(len(alphabet), 1, -1):\n",
        "    if i % 3 == 0:\n",
        "        alphabet.pop(i-1)\n",
        "print(alphabet)\n"
      ]
    }
  ],
  "metadata": {
    "kernelspec": {
      "display_name": "Python 3",
      "language": "python",
      "name": "python3"
    },
    "language_info": {
      "codemirror_mode": {
        "name": "ipython",
        "version": 3
      },
      "file_extension": ".py",
      "mimetype": "text/x-python",
      "name": "python",
      "nbconvert_exporter": "python",
      "pygments_lexer": "ipython3",
      "version": "3.8.6-final"
    },
    "colab": {
      "provenance": []
    }
  },
  "nbformat": 4,
  "nbformat_minor": 0
}